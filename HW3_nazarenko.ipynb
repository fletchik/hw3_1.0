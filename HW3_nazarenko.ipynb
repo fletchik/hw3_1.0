{
 "cells": [
  {
   "cell_type": "markdown",
   "metadata": {
    "id": "4RcLSNBEe4ZJ"
   },
   "source": [
    "**Домашнее задание 3**"
   ]
  },
  {
   "cell_type": "markdown",
   "metadata": {
    "id": "pztkxtkhe9EO"
   },
   "source": [
    "В первой части третьего дз предлагается поработать с несколькими датасетами из соревнования [Boston Airbnb Open Data на Kaggle](https://www.kaggle.com/airbnb/boston). Данные можно найти на Kaggle, или по  [ссылке](https://drive.google.com/drive/folders/1lTAxxEwrCkd5WEQMJCJvBsFZc3tXgiyO?usp=sharing). Решите предложенные задания с использованием модуля Pandas (NumPy, разумеется, тоже разрешен).\n",
    "\n",
    "Использование условий и циклов запрещено (списковые включения это тоже цикл!), за это будут обнуляться баллы.\n",
    "Все задания равноценны (кроме нулевого, его выполнение необходимо для получения положительной оценки).\n",
    "В каждой задаче постарайтесь придумать несколько решений. Если вы напишете несколько решений (или несколько способов сделать какую-то часть решения), сравните их производительность с помощью jupyter magics. Решением должен быть Jupyter notebook / ссылка на Colab"
   ]
  },
  {
   "cell_type": "code",
   "execution_count": 1,
   "metadata": {
    "id": "AarokfpGgrk7"
   },
   "outputs": [],
   "source": [
    "import pandas as pd\n",
    "import numpy as np"
   ]
  },
  {
   "cell_type": "code",
   "execution_count": 2,
   "metadata": {
    "colab": {
     "base_uri": "https://localhost:8080/",
     "height": 852
    },
    "id": "A6lJgVJXzfh3",
    "outputId": "82e17bab-450f-4540-e609-07cceaff346a"
   },
   "outputs": [],
   "source": [
    "df_calendar = pd.read_csv('data/calendar.csv')\n",
    "df_listing = pd.read_csv('data/listings.csv')\n",
    "df_review = pd.read_csv('data/reviews.csv')"
   ]
  },
  {
   "cell_type": "markdown",
   "metadata": {
    "id": "Uwdx6riCzgJV"
   },
   "source": [
    "0. Внимательно посмотрите на данные в таблицах. При попытке посмотреть первые несколько строк в таблице listings с помощью pandas отображаются не все колонки. Сделайте так, чтобы отображались все столбцы:"
   ]
  },
  {
   "cell_type": "code",
   "execution_count": 3,
   "metadata": {},
   "outputs": [],
   "source": [
    "pd.set_option('display.max_columns', None)"
   ]
  },
  {
   "cell_type": "markdown",
   "metadata": {},
   "source": [
    "- Для всех ли объявлений есть календарь? - ДА"
   ]
  },
  {
   "cell_type": "code",
   "execution_count": 4,
   "metadata": {},
   "outputs": [
    {
     "name": "stdout",
     "output_type": "stream",
     "text": [
      "True\n"
     ]
    }
   ],
   "source": [
    "print(*df_listing['id'].isin(df_calendar['listing_id']).astype(bool).value_counts().index)"
   ]
  },
  {
   "cell_type": "markdown",
   "metadata": {},
   "source": [
    "- Для какой доли объявлений нет ни одного отзыва? ~21%"
   ]
  },
  {
   "cell_type": "markdown",
   "metadata": {},
   "source": [
    "   первый способ (быстрее):"
   ]
  },
  {
   "cell_type": "code",
   "execution_count": 5,
   "metadata": {},
   "outputs": [
    {
     "name": "stdout",
     "output_type": "stream",
     "text": [
      "percentage without any review: 21.087866108786613\n",
      "CPU times: user 6.61 ms, sys: 1.2 ms, total: 7.81 ms\n",
      "Wall time: 7.3 ms\n"
     ]
    }
   ],
   "source": [
    "%%time\n",
    "\n",
    "id_rvw = set(df_review['listing_id'])\n",
    "id_lst = set(df_listing['id'])\n",
    "prc_no_review = (1 - len(id_rvw) / len(id_lst))*100\n",
    "print('percentage without any review:', prc_no_review)"
   ]
  },
  {
   "cell_type": "markdown",
   "metadata": {},
   "source": [
    "   второй способ (оказался медленнее):"
   ]
  },
  {
   "cell_type": "code",
   "execution_count": 6,
   "metadata": {},
   "outputs": [
    {
     "name": "stdout",
     "output_type": "stream",
     "text": [
      "21.08786610878661\n",
      "CPU times: user 1.88 ms, sys: 1.22 ms, total: 3.1 ms\n",
      "Wall time: 2.54 ms\n"
     ]
    }
   ],
   "source": [
    "%%time\n",
    "\n",
    "cnt_no_review = (len(df_listing[df_listing['number_of_reviews'] == 0])/ df_listing.shape[0])*100\n",
    "print(cnt_no_review)"
   ]
  },
  {
   "cell_type": "markdown",
   "metadata": {},
   "source": [
    "- Сколько объявлений не были доступны для сдачи ни разу за представленный период? - 19"
   ]
  },
  {
   "cell_type": "code",
   "execution_count": 7,
   "metadata": {},
   "outputs": [
    {
     "data": {
      "text/plain": "19"
     },
     "execution_count": 7,
     "metadata": {},
     "output_type": "execute_result"
    }
   ],
   "source": [
    "len(df_listing[df_listing['calendar_updated'] == 'never'])"
   ]
  },
  {
   "cell_type": "markdown",
   "metadata": {
    "id": "g_gDgLPP5cYB"
   },
   "source": [
    "1. Как зовут владельца, у недвижимости которого за отчетный период была наибольшая разница между максимальной и минимальной ценой? - Hilary"
   ]
  },
  {
   "cell_type": "markdown",
   "metadata": {},
   "source": [
    "- создаем копию, чтобы работать с меньшей dataframe:"
   ]
  },
  {
   "cell_type": "code",
   "execution_count": 8,
   "metadata": {},
   "outputs": [],
   "source": [
    "df_price = df_calendar[['listing_id', 'price']].copy()"
   ]
  },
  {
   "cell_type": "markdown",
   "metadata": {},
   "source": [
    "- форматируем цену"
   ]
  },
  {
   "cell_type": "code",
   "execution_count": 9,
   "metadata": {},
   "outputs": [
    {
     "name": "stderr",
     "output_type": "stream",
     "text": [
      "/var/folders/vq/83rh7mkj0gj6bpm6h82_r53c0000gn/T/ipykernel_55570/4235160620.py:1: FutureWarning: The default value of regex will change from True to False in a future version. In addition, single character regular expressions will *not* be treated as literal strings when regex=True.\n",
      "  df_price['price'] = df_price['price'].str.replace('$', '')\n"
     ]
    }
   ],
   "source": [
    "df_price['price'] = df_price['price'].str.replace('$', '')\n",
    "df_price['price'] = df_price['price'].str.replace(',', '')\n",
    "df_price['price'] = df_price['price'].astype(float)"
   ]
  },
  {
   "cell_type": "markdown",
   "metadata": {},
   "source": [
    "- создаем новую колонку разницы, сгруппировав по host_id с мин и макс значениями"
   ]
  },
  {
   "cell_type": "code",
   "execution_count": 10,
   "metadata": {},
   "outputs": [
    {
     "data": {
      "text/plain": "              min    max  difference\nlisting_id                          \n3353         32.0   36.0         4.0\n5506        145.0  275.0       130.0\n6695        195.0  325.0       130.0\n6976         65.0   65.0         0.0\n8792        154.0  154.0         0.0\n...           ...    ...         ...\n14924831    132.0  180.0        48.0\n14928000     55.0   55.0         0.0\n14928333     70.0  113.0        43.0\n14933380     49.0   49.0         0.0\n14933461    165.0  182.0        17.0\n\n[3585 rows x 3 columns]",
      "text/html": "<div>\n<style scoped>\n    .dataframe tbody tr th:only-of-type {\n        vertical-align: middle;\n    }\n\n    .dataframe tbody tr th {\n        vertical-align: top;\n    }\n\n    .dataframe thead th {\n        text-align: right;\n    }\n</style>\n<table border=\"1\" class=\"dataframe\">\n  <thead>\n    <tr style=\"text-align: right;\">\n      <th></th>\n      <th>min</th>\n      <th>max</th>\n      <th>difference</th>\n    </tr>\n    <tr>\n      <th>listing_id</th>\n      <th></th>\n      <th></th>\n      <th></th>\n    </tr>\n  </thead>\n  <tbody>\n    <tr>\n      <th>3353</th>\n      <td>32.0</td>\n      <td>36.0</td>\n      <td>4.0</td>\n    </tr>\n    <tr>\n      <th>5506</th>\n      <td>145.0</td>\n      <td>275.0</td>\n      <td>130.0</td>\n    </tr>\n    <tr>\n      <th>6695</th>\n      <td>195.0</td>\n      <td>325.0</td>\n      <td>130.0</td>\n    </tr>\n    <tr>\n      <th>6976</th>\n      <td>65.0</td>\n      <td>65.0</td>\n      <td>0.0</td>\n    </tr>\n    <tr>\n      <th>8792</th>\n      <td>154.0</td>\n      <td>154.0</td>\n      <td>0.0</td>\n    </tr>\n    <tr>\n      <th>...</th>\n      <td>...</td>\n      <td>...</td>\n      <td>...</td>\n    </tr>\n    <tr>\n      <th>14924831</th>\n      <td>132.0</td>\n      <td>180.0</td>\n      <td>48.0</td>\n    </tr>\n    <tr>\n      <th>14928000</th>\n      <td>55.0</td>\n      <td>55.0</td>\n      <td>0.0</td>\n    </tr>\n    <tr>\n      <th>14928333</th>\n      <td>70.0</td>\n      <td>113.0</td>\n      <td>43.0</td>\n    </tr>\n    <tr>\n      <th>14933380</th>\n      <td>49.0</td>\n      <td>49.0</td>\n      <td>0.0</td>\n    </tr>\n    <tr>\n      <th>14933461</th>\n      <td>165.0</td>\n      <td>182.0</td>\n      <td>17.0</td>\n    </tr>\n  </tbody>\n</table>\n<p>3585 rows × 3 columns</p>\n</div>"
     },
     "execution_count": 10,
     "metadata": {},
     "output_type": "execute_result"
    }
   ],
   "source": [
    "df_price = df_price.groupby('listing_id')['price'].agg([min, max])\n",
    "df_price['difference'] = df_price['max'] - df_price['min']\n",
    "df_price"
   ]
  },
  {
   "cell_type": "code",
   "execution_count": 11,
   "metadata": {},
   "outputs": [],
   "source": [
    "max_dif = max(df_price['difference'])\n",
    "df_price = df_price[df_price.difference == max_dif]"
   ]
  },
  {
   "cell_type": "code",
   "execution_count": 12,
   "metadata": {},
   "outputs": [],
   "source": [
    "host_id = df_price.index[0]\n",
    "df_price = df_listing.loc[df_listing['id'] == host_id]"
   ]
  },
  {
   "cell_type": "markdown",
   "metadata": {},
   "source": [
    "выводим имя:"
   ]
  },
  {
   "cell_type": "code",
   "execution_count": 13,
   "metadata": {},
   "outputs": [
    {
     "name": "stdout",
     "output_type": "stream",
     "text": [
      "Hilary\n"
     ]
    }
   ],
   "source": [
    "print(*df_price['host_name'])"
   ]
  },
  {
   "cell_type": "markdown",
   "metadata": {
    "id": "XTcVkHx_6y_w"
   },
   "source": [
    "2. В таблице listings достаточно много самых разных колонок. В частности, есть host_listings_count, host_total_listings_count и calculated_host_listings_count. По названию понятно, что это \"какое-то\" число объявлений хозяина недвижимости, но какое?\n",
    "\n",
    "    Внимание вопрос. Является ли какое-то из этих чисел количеством объявлений из listings для каждого хозяина недвижимости? \n",
    "\n",
    "    Приветствуются промежуточные вычисления и рассуждения по этому вопросу. Например, было бы круто проверить, что для всех записей одного и того же хозяина одинаковые значения в указанных выше трех столбцах"
   ]
  },
  {
   "cell_type": "code",
   "execution_count": 14,
   "metadata": {},
   "outputs": [],
   "source": [
    "df_count = df_listing[['host_id', 'host_listings_count', \n",
    "                       'host_total_listings_count', 'calculated_host_listings_count']].copy()"
   ]
  },
  {
   "cell_type": "code",
   "execution_count": 15,
   "metadata": {},
   "outputs": [
    {
     "data": {
      "text/plain": "0"
     },
     "execution_count": 15,
     "metadata": {},
     "output_type": "execute_result"
    }
   ],
   "source": [
    "len(df_count[(df_count['host_listings_count'] == df_count['host_total_listings_count']) == False])"
   ]
  },
  {
   "cell_type": "markdown",
   "metadata": {},
   "source": [
    "полагаю, host_listings_count и host_total_listings_count - общее количество объявлений хоста, потому что данные этих колонок одинаковы"
   ]
  },
  {
   "cell_type": "code",
   "execution_count": 16,
   "metadata": {},
   "outputs": [
    {
     "data": {
      "text/plain": "1027"
     },
     "execution_count": 16,
     "metadata": {},
     "output_type": "execute_result"
    }
   ],
   "source": [
    "len(df_count[(df_count['host_listings_count'] == df_count['calculated_host_listings_count']) == False])"
   ]
  },
  {
   "cell_type": "code",
   "execution_count": 17,
   "metadata": {},
   "outputs": [],
   "source": [
    "df_count = df_listing.groupby('host_id').agg({'id': 'count'})"
   ]
  },
  {
   "cell_type": "code",
   "execution_count": 18,
   "metadata": {},
   "outputs": [],
   "source": [
    "df_count = pd.merge(df_listing[['host_id', 'host_listings_count', 'calculated_host_listings_count']], \n",
    "                           df_count, on='host_id', how='left')\n"
   ]
  },
  {
   "cell_type": "markdown",
   "metadata": {},
   "source": [
    "проверяем на индентичность (есть ли различные значения 0 - столбцы идентичны):\n"
   ]
  },
  {
   "cell_type": "code",
   "execution_count": 19,
   "metadata": {},
   "outputs": [
    {
     "data": {
      "text/plain": "0"
     },
     "execution_count": 19,
     "metadata": {},
     "output_type": "execute_result"
    }
   ],
   "source": [
    "len(df_count[(df_count['calculated_host_listings_count'] == df_count['id']) == False])"
   ]
  },
  {
   "cell_type": "markdown",
   "metadata": {},
   "source": [
    "calculated_host_listings_count - количество объявлений для каждого хозяина недвижимости, тк данные столбцов совпадают"
   ]
  },
  {
   "cell_type": "markdown",
   "metadata": {},
   "source": [
    "- Сколько в среднем объектов недвижимости у хозяина из числа указанных в listings? ~ 12"
   ]
  },
  {
   "cell_type": "code",
   "execution_count": 20,
   "metadata": {},
   "outputs": [
    {
     "data": {
      "text/plain": "12.733891213389121"
     },
     "execution_count": 20,
     "metadata": {},
     "output_type": "execute_result"
    }
   ],
   "source": [
    "df_count['calculated_host_listings_count'].mean()"
   ]
  },
  {
   "cell_type": "markdown",
   "metadata": {},
   "source": [
    "- А сколько максимально? - 136"
   ]
  },
  {
   "cell_type": "code",
   "execution_count": 21,
   "metadata": {},
   "outputs": [
    {
     "data": {
      "text/plain": "136"
     },
     "execution_count": 21,
     "metadata": {},
     "output_type": "execute_result"
    }
   ],
   "source": [
    "df_count['calculated_host_listings_count'].max()"
   ]
  },
  {
   "cell_type": "markdown",
   "metadata": {},
   "source": [
    "3. Коррелируют ли средняя цена на недвижимость за всё время наблюдений и количество отзывов на неё? Иными словами, если средняя цена квартиры больше, то на неё оставляют больше или меньше отзывов?"
   ]
  },
  {
   "cell_type": "markdown",
   "metadata": {},
   "source": [
    "отформатируем данные:"
   ]
  },
  {
   "cell_type": "code",
   "execution_count": 22,
   "metadata": {},
   "outputs": [
    {
     "name": "stderr",
     "output_type": "stream",
     "text": [
      "/var/folders/vq/83rh7mkj0gj6bpm6h82_r53c0000gn/T/ipykernel_55570/3807436051.py:1: FutureWarning: The default value of regex will change from True to False in a future version. In addition, single character regular expressions will *not* be treated as literal strings when regex=True.\n",
      "  df_listing['price'] = df_listing['price'].str.replace('$', '')\n"
     ]
    }
   ],
   "source": [
    "df_listing['price'] = df_listing['price'].str.replace('$', '')\n",
    "df_listing['price'] = df_listing['price'].str.replace(',', '')\n",
    "df_listing['price'] = df_listing['price'].astype(float)"
   ]
  },
  {
   "cell_type": "markdown",
   "metadata": {},
   "source": [
    "изобразим график корреляции и посчитаем ее двумя вариантами:"
   ]
  },
  {
   "cell_type": "code",
   "execution_count": 23,
   "metadata": {},
   "outputs": [],
   "source": [
    "import matplotlib.pyplot as plt"
   ]
  },
  {
   "cell_type": "code",
   "execution_count": 24,
   "metadata": {},
   "outputs": [
    {
     "data": {
      "text/plain": "<Axes: xlabel='price', ylabel='number_of_reviews'>"
     },
     "execution_count": 24,
     "metadata": {},
     "output_type": "execute_result"
    },
    {
     "data": {
      "text/plain": "<Figure size 640x480 with 1 Axes>",
      "image/png": "[encoded data removed]"
     },
     "metadata": {},
     "output_type": "display_data"
    }
   ],
   "source": [
    "df_listing.plot(x='price', y='number_of_reviews', kind='scatter')"
   ]
  },
  {
   "cell_type": "markdown",
   "metadata": {},
   "source": [
    "первый способ: ~0,1"
   ]
  },
  {
   "cell_type": "code",
   "execution_count": 25,
   "metadata": {
    "id": "YSIQhEWhI0PQ"
   },
   "outputs": [
    {
     "name": "stdout",
     "output_type": "stream",
     "text": [
      "-0.09642705760760048\n",
      "CPU times: user 1.06 ms, sys: 1.11 ms, total: 2.17 ms\n",
      "Wall time: 1.01 ms\n"
     ]
    }
   ],
   "source": [
    "%%time\n",
    "print(df_listing['price'].corr(df_listing['number_of_reviews']))"
   ]
  },
  {
   "cell_type": "markdown",
   "metadata": {},
   "source": [
    "второй способ: ~0,1"
   ]
  },
  {
   "cell_type": "code",
   "execution_count": 26,
   "metadata": {},
   "outputs": [
    {
     "name": "stdout",
     "output_type": "stream",
     "text": [
      "CPU times: user 477 µs, sys: 499 µs, total: 976 µs\n",
      "Wall time: 419 µs\n"
     ]
    },
    {
     "data": {
      "text/plain": "-0.09642705760760048"
     },
     "execution_count": 26,
     "metadata": {},
     "output_type": "execute_result"
    }
   ],
   "source": [
    "%%time\n",
    "np.corrcoef(df_listing['price'], df_listing['number_of_reviews'])[0][1]"
   ]
  },
  {
   "cell_type": "markdown",
   "metadata": {},
   "source": [
    "значения совпадают: слабая отрицательная корреляция \n",
    "= увеличение цены ведет почти не ведет к закономерному уменьшению количества отзывов\n",
    "\n",
    "Иными словами, если средняя цена квартиры больше, то на неё оставляют меньше отзывов"
   ]
  },
  {
   "cell_type": "markdown",
   "metadata": {
    "id": "mqslqEwpI0zx"
   },
   "source": [
    "4. Давайте рассмотрим кейс, в котором имена хозяина недвижимости и гостя совпадают."
   ]
  },
  {
   "cell_type": "markdown",
   "metadata": {},
   "source": [
    "-  Как зовут хозяйку, у которой было в качестве гостей больше всего тёзок? "
   ]
  },
  {
   "cell_type": "code",
   "execution_count": 27,
   "metadata": {},
   "outputs": [],
   "source": [
    "df_listrev = pd.merge(df_listing[['id', 'host_name']].sort_values(by='id'),\n",
    "                      df_review[['listing_id', 'reviewer_name', 'comments']].sort_values(by='listing_id'),\n",
    "                      left_on = 'id', right_on = 'listing_id', how = 'inner')"
   ]
  },
  {
   "cell_type": "markdown",
   "metadata": {},
   "source": [
    "создали новую табличку, совместив по иннеру listing и review"
   ]
  },
  {
   "cell_type": "code",
   "execution_count": 28,
   "metadata": {},
   "outputs": [],
   "source": [
    "df_listrev = df_listrev.query('reviewer_name == host_name').groupby(by='host_name').agg({'reviewer_name': 'count'})"
   ]
  },
  {
   "cell_type": "markdown",
   "metadata": {},
   "source": [
    "отсортировали"
   ]
  },
  {
   "cell_type": "code",
   "execution_count": 29,
   "metadata": {},
   "outputs": [],
   "source": [
    "df_listrev = df_listrev.sort_values(by='reviewer_name', ascending=False)"
   ]
  },
  {
   "cell_type": "code",
   "execution_count": 30,
   "metadata": {},
   "outputs": [
    {
     "name": "stdout",
     "output_type": "stream",
     "text": [
      "Tom\n"
     ]
    }
   ],
   "source": [
    "print(df_listrev.index[0])"
   ]
  },
  {
   "cell_type": "markdown",
   "metadata": {},
   "source": [
    "Том - мужчина, но параметра пола нет, ищем дальше"
   ]
  },
  {
   "cell_type": "code",
   "execution_count": 31,
   "metadata": {},
   "outputs": [
    {
     "name": "stdout",
     "output_type": "stream",
     "text": [
      "Susan\n"
     ]
    }
   ],
   "source": [
    "name = df_listrev.index[1]\n",
    "print(df_listrev.index[1])"
   ]
  },
  {
   "cell_type": "markdown",
   "metadata": {},
   "source": [
    "Susan подходит"
   ]
  },
  {
   "cell_type": "markdown",
   "metadata": {},
   "source": [
    "- Что все её гости отмечали в качестве плюсов сдаваемой недвижимости?\n"
   ]
  },
  {
   "cell_type": "code",
   "execution_count": 32,
   "metadata": {},
   "outputs": [],
   "source": [
    "pd.set_option('display.max_rows', None)\n",
    "pd.set_option('display.max_colwidth', None)"
   ]
  },
  {
   "cell_type": "markdown",
   "metadata": {},
   "source": [
    "выводим 4 рандомных отзыва"
   ]
  },
  {
   "cell_type": "code",
   "execution_count": 33,
   "metadata": {},
   "outputs": [
    {
     "name": "stdout",
     "output_type": "stream",
     "text": [
      "This was my second experience staying with Susan.  This was an extended booking - Susan still welcomed me with open arms, helped carry my luggage to my room and was an overall wonderful host.  Due to this being an extended booking, we had multiple interactions over several months and I must say Susan (and her puppy Zoey) were a joy to speak with.  \\r\\n\\r\\nA former caterer, Susan's Sunday breakfasts were amazing, very filling and special (especially the French Toast and bacon!)  The bed itself was very comfortable, the bathroom sparkling, and the house is a very  ascetically pleasing place and It would be my pleasure to stay their again!\n",
      "                                                                                                                                                                                                                                                                                                                      Susan is a wonderfull hoster, the house is clean, nice and next to the Red Line, in 20 min  you can stay in Boston Downtown.\\r\\n\\r\\nPerfect place to enjoy the seaside and beach, practise sport and brief pure air.\\r\\n\\r\\nSusan is a great chef, the breakfast on the weekends is one of the best things of my stay! \\r\\n\\r\\nThanks Susan!! \n",
      "                                                                                                                                                                                                                                                                                                                                                                                                                                                                                              Great roof deck, nice comfortable apt.  Quiet street that is one downhill away from the hopping North End.  Susan was responsive and helped me find whatever I needed!\n",
      "                                                                                                                                                                     Un très chaleureux accueil. J'ai beaucoup aimé tout ce que Susan a fait pour nous. Nous sommes arrivés très tard et elle a tout de même été très accueillante. Le déjeuner, spécialement celui du dimanche matin, était très bien. Susan nous a toujours fait sentir qu'elle était présente pour nous aider.\\r\\n\\r\\nLe quartier est très sympathique. Le logement se trouve à cinq minutes de marche du métro. Nous avons laissé notre voiture stationnée dans la rue et tout s'est bien passé!\n"
     ]
    }
   ],
   "source": [
    "df_listrev = pd.merge(df_listing[['id', 'host_name']].sort_values(by='id'),\n",
    "                      df_review[['listing_id', 'comments']].sort_values(by='listing_id'),\n",
    "                      left_on = 'id', right_on = 'listing_id', how = 'inner')\n",
    "df_listrev = df_listrev[df_listrev['host_name'] == name]\n",
    "\n",
    "print((df_listrev['comments'].sample(4)).to_string(index=False))"
   ]
  }
 ],
 "metadata": {
  "colab": {
   "provenance": []
  },
  "kernelspec": {
   "display_name": "Python 3 (ipykernel)",
   "language": "python",
   "name": "python3"
  },
  "language_info": {
   "codemirror_mode": {
    "name": "ipython",
    "version": 3
   },
   "file_extension": ".py",
   "mimetype": "text/x-python",
   "name": "python",
   "nbconvert_exporter": "python",
   "pygments_lexer": "ipython3",
   "version": "3.10.9"
  }
 },
 "nbformat": 4,
 "nbformat_minor": 1
}
